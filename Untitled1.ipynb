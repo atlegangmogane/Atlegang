{
 "cells": [
  {
   "cell_type": "markdown",
   "id": "685b1e62",
   "metadata": {},
   "source": [
    "## Explore Data Science Academy Classification Hackathon\n",
    "© Explore Data Science Academy\n",
    "\n",
    "### Predict Overview\n",
    "South Africa is a multicultural society that is characterised by its rich linguistic diversity. Language is an indispensable tool that can be used to deepen democracy and also contribute to the social, cultural, intellectual, economic and political life of the South African society.\n",
    "\n",
    "The country is multilingual with 11 official languages, each of which is guaranteed equal status. Most South Africans are multilingual and able to speak at least two or more of the official languages. From South African Government With such a multilingual population, it is only obvious that our systems and devices also communicate in multi-languages.\n",
    "\n",
    "In this challenge, you will take text which is in any of South Africa's 11 Official languages and identify which language the text is in. This is an example of NLP's Language Identification, the task of determining the natural language that a piece of text is written in.\n",
    "\n"
   ]
  },
  {
   "cell_type": "markdown",
   "id": "c50e39a8",
   "metadata": {},
   "source": [
    "<a id=\"cont\"></a>\n",
    "\n",
    "### Table of Contents\n",
    "\n",
    "<a href=#one>1. Importing Package</a>\n",
    "\n",
    "<a href=#two>2. Loading Data</a>\n",
    "\n",
    "<a href=#three>3. Exploratory Data Analysis(EDA)</a>\n",
    "\n",
    "<a href=#four>4. Pre-Processing</a>\n",
    "\n",
    "<a href=#five>5. Model Training</a>\n",
    "\n",
    "<a href=#six>6. Modelling</a>"
   ]
  },
  {
   "cell_type": "markdown",
   "id": "ec485f14",
   "metadata": {},
   "source": [
    "### 1. Importing packages"
   ]
  },
  {
   "cell_type": "code",
   "execution_count": 1,
   "id": "a7417282",
   "metadata": {},
   "outputs": [],
   "source": [
    "# Importing modules for data science and visualization\n",
    "import pandas as pd\n",
    "import numpy as np\n",
    "import seaborn as sns\n",
    "import matplotlib.pyplot as plt\n",
    "import matplotlib as mpl\n",
    "\n",
    "# NLP Libraries\n",
    "import re\n",
    "import string\n",
    "from nltk.corpus import stopwords\n",
    "from nltk.tokenize import word_tokenize\n",
    "from nltk.tokenize import RegexpTokenizer\n",
    "from nltk.stem import PorterStemmer\n",
    "from nltk.stem import WordNetLemmatizer\n",
    "from nltk.stem import SnowballStemmer\n",
    "from os import path\n",
    "from PIL import Image\n",
    "\n",
    "#modelling libraries\n",
    "from sklearn.model_selection import train_test_split\n",
    "from sklearn.linear_model import LogisticRegression\n",
    "from sklearn import feature_selection\n",
    "from sklearn.feature_selection import f_classif\n",
    "from sklearn.ensemble import RandomForestClassifier\n",
    "from sklearn.metrics import accuracy_score\n",
    "from sklearn.metrics import roc_auc_score\n",
    "from sklearn.metrics import recall_score\n",
    "from sklearn.metrics import precision_score\n",
    "from sklearn.metrics import f1_score\n",
    "from sklearn.metrics import accuracy_score, confusion_matrix, classification_report\n",
    "from sklearn.svm import LinearSVC\n",
    "from sklearn.naive_bayes import BernoulliNB\n",
    "from sklearn.ensemble import GradientBoostingClassifier\n",
    "from sklearn.tree import DecisionTreeClassifier\n",
    "\n",
    "#avoid warnings\n",
    "import warnings\n",
    "warnings.filterwarnings('ignore')"
   ]
  },
  {
   "cell_type": "markdown",
   "id": "02b5627a",
   "metadata": {},
   "source": [
    "### 2. Loading data"
   ]
  },
  {
   "cell_type": "code",
   "execution_count": 2,
   "id": "9f47c654",
   "metadata": {},
   "outputs": [],
   "source": [
    "# Load train data\n",
    "df_train = pd.read_csv('train_set.csv')\n",
    "\n",
    "# Load test data \n",
    "df_test = pd.read_csv('test_set.csv')"
   ]
  },
  {
   "cell_type": "markdown",
   "id": "c9c45da2",
   "metadata": {},
   "source": [
    "### 3. Exploratory Data Analysis (EDA)"
   ]
  },
  {
   "cell_type": "code",
   "execution_count": 3,
   "id": "06352d59",
   "metadata": {},
   "outputs": [
    {
     "data": {
      "text/html": [
       "<div>\n",
       "<style scoped>\n",
       "    .dataframe tbody tr th:only-of-type {\n",
       "        vertical-align: middle;\n",
       "    }\n",
       "\n",
       "    .dataframe tbody tr th {\n",
       "        vertical-align: top;\n",
       "    }\n",
       "\n",
       "    .dataframe thead th {\n",
       "        text-align: right;\n",
       "    }\n",
       "</style>\n",
       "<table border=\"1\" class=\"dataframe\">\n",
       "  <thead>\n",
       "    <tr style=\"text-align: right;\">\n",
       "      <th></th>\n",
       "      <th>lang_id</th>\n",
       "      <th>text</th>\n",
       "    </tr>\n",
       "  </thead>\n",
       "  <tbody>\n",
       "    <tr>\n",
       "      <th>0</th>\n",
       "      <td>xho</td>\n",
       "      <td>umgaqo-siseko wenza amalungiselelo kumaziko ax...</td>\n",
       "    </tr>\n",
       "    <tr>\n",
       "      <th>1</th>\n",
       "      <td>xho</td>\n",
       "      <td>i-dha iya kuba nobulumko bokubeka umsebenzi na...</td>\n",
       "    </tr>\n",
       "    <tr>\n",
       "      <th>2</th>\n",
       "      <td>eng</td>\n",
       "      <td>the province of kwazulu-natal department of tr...</td>\n",
       "    </tr>\n",
       "    <tr>\n",
       "      <th>3</th>\n",
       "      <td>nso</td>\n",
       "      <td>o netefatša gore o ba file dilo ka moka tše le...</td>\n",
       "    </tr>\n",
       "    <tr>\n",
       "      <th>4</th>\n",
       "      <td>ven</td>\n",
       "      <td>khomishini ya ndinganyiso ya mbeu yo ewa maana...</td>\n",
       "    </tr>\n",
       "  </tbody>\n",
       "</table>\n",
       "</div>"
      ],
      "text/plain": [
       "  lang_id                                               text\n",
       "0     xho  umgaqo-siseko wenza amalungiselelo kumaziko ax...\n",
       "1     xho  i-dha iya kuba nobulumko bokubeka umsebenzi na...\n",
       "2     eng  the province of kwazulu-natal department of tr...\n",
       "3     nso  o netefatša gore o ba file dilo ka moka tše le...\n",
       "4     ven  khomishini ya ndinganyiso ya mbeu yo ewa maana..."
      ]
     },
     "execution_count": 3,
     "metadata": {},
     "output_type": "execute_result"
    }
   ],
   "source": [
    "df_train.head()"
   ]
  },
  {
   "cell_type": "code",
   "execution_count": 4,
   "id": "6e2badca",
   "metadata": {},
   "outputs": [
    {
     "data": {
      "text/html": [
       "<div>\n",
       "<style scoped>\n",
       "    .dataframe tbody tr th:only-of-type {\n",
       "        vertical-align: middle;\n",
       "    }\n",
       "\n",
       "    .dataframe tbody tr th {\n",
       "        vertical-align: top;\n",
       "    }\n",
       "\n",
       "    .dataframe thead th {\n",
       "        text-align: right;\n",
       "    }\n",
       "</style>\n",
       "<table border=\"1\" class=\"dataframe\">\n",
       "  <thead>\n",
       "    <tr style=\"text-align: right;\">\n",
       "      <th></th>\n",
       "      <th>index</th>\n",
       "      <th>text</th>\n",
       "    </tr>\n",
       "  </thead>\n",
       "  <tbody>\n",
       "    <tr>\n",
       "      <th>0</th>\n",
       "      <td>1</td>\n",
       "      <td>Mmasepala, fa maemo a a kgethegileng a letlele...</td>\n",
       "    </tr>\n",
       "    <tr>\n",
       "      <th>1</th>\n",
       "      <td>2</td>\n",
       "      <td>Uzakwaziswa ngokufaneleko nakungafuneka eminye...</td>\n",
       "    </tr>\n",
       "    <tr>\n",
       "      <th>2</th>\n",
       "      <td>3</td>\n",
       "      <td>Tshivhumbeo tshi fana na ngano dza vhathu.</td>\n",
       "    </tr>\n",
       "    <tr>\n",
       "      <th>3</th>\n",
       "      <td>4</td>\n",
       "      <td>Kube inja nelikati betingevakala kutsi titsini...</td>\n",
       "    </tr>\n",
       "    <tr>\n",
       "      <th>4</th>\n",
       "      <td>5</td>\n",
       "      <td>Winste op buitelandse valuta.</td>\n",
       "    </tr>\n",
       "  </tbody>\n",
       "</table>\n",
       "</div>"
      ],
      "text/plain": [
       "   index                                               text\n",
       "0      1  Mmasepala, fa maemo a a kgethegileng a letlele...\n",
       "1      2  Uzakwaziswa ngokufaneleko nakungafuneka eminye...\n",
       "2      3         Tshivhumbeo tshi fana na ngano dza vhathu.\n",
       "3      4  Kube inja nelikati betingevakala kutsi titsini...\n",
       "4      5                      Winste op buitelandse valuta."
      ]
     },
     "execution_count": 4,
     "metadata": {},
     "output_type": "execute_result"
    }
   ],
   "source": [
    "df_test.head()"
   ]
  },
  {
   "cell_type": "code",
   "execution_count": 5,
   "id": "458ce84e",
   "metadata": {},
   "outputs": [
    {
     "data": {
      "text/plain": [
       "(33000, 2)"
      ]
     },
     "execution_count": 5,
     "metadata": {},
     "output_type": "execute_result"
    }
   ],
   "source": [
    "df_train.shape"
   ]
  },
  {
   "cell_type": "code",
   "execution_count": 6,
   "id": "9ab40311",
   "metadata": {},
   "outputs": [
    {
     "data": {
      "text/plain": [
       "(5682, 2)"
      ]
     },
     "execution_count": 6,
     "metadata": {},
     "output_type": "execute_result"
    }
   ],
   "source": [
    "df_test.shape"
   ]
  },
  {
   "cell_type": "code",
   "execution_count": 7,
   "id": "9f058e99",
   "metadata": {},
   "outputs": [
    {
     "name": "stdout",
     "output_type": "stream",
     "text": [
      "<class 'pandas.core.frame.DataFrame'>\n",
      "RangeIndex: 33000 entries, 0 to 32999\n",
      "Data columns (total 2 columns):\n",
      " #   Column   Non-Null Count  Dtype \n",
      "---  ------   --------------  ----- \n",
      " 0   lang_id  33000 non-null  object\n",
      " 1   text     33000 non-null  object\n",
      "dtypes: object(2)\n",
      "memory usage: 515.8+ KB\n"
     ]
    }
   ],
   "source": [
    "df_train.info()"
   ]
  },
  {
   "cell_type": "code",
   "execution_count": 8,
   "id": "24d9af37",
   "metadata": {},
   "outputs": [
    {
     "name": "stdout",
     "output_type": "stream",
     "text": [
      "<class 'pandas.core.frame.DataFrame'>\n",
      "RangeIndex: 5682 entries, 0 to 5681\n",
      "Data columns (total 2 columns):\n",
      " #   Column  Non-Null Count  Dtype \n",
      "---  ------  --------------  ----- \n",
      " 0   index   5682 non-null   int64 \n",
      " 1   text    5682 non-null   object\n",
      "dtypes: int64(1), object(1)\n",
      "memory usage: 88.9+ KB\n"
     ]
    }
   ],
   "source": [
    "df_test.info()"
   ]
  },
  {
   "cell_type": "code",
   "execution_count": 9,
   "id": "66e8c7bd",
   "metadata": {},
   "outputs": [
    {
     "data": {
      "text/plain": [
       "lang_id    0\n",
       "text       0\n",
       "dtype: int64"
      ]
     },
     "execution_count": 9,
     "metadata": {},
     "output_type": "execute_result"
    }
   ],
   "source": [
    "df_train.isnull().sum()"
   ]
  },
  {
   "cell_type": "code",
   "execution_count": 10,
   "id": "ea94108d",
   "metadata": {},
   "outputs": [
    {
     "data": {
      "text/plain": [
       "index    0\n",
       "text     0\n",
       "dtype: int64"
      ]
     },
     "execution_count": 10,
     "metadata": {},
     "output_type": "execute_result"
    }
   ],
   "source": [
    "df_test.isnull().sum()"
   ]
  },
  {
   "cell_type": "markdown",
   "id": "87c4e430",
   "metadata": {},
   "source": [
    "Establishing the distinct number of langusges and the total number of sentenses in the dataset."
   ]
  },
  {
   "cell_type": "code",
   "execution_count": 11,
   "id": "148a1964",
   "metadata": {},
   "outputs": [
    {
     "data": {
      "text/plain": [
       "xho    3000\n",
       "eng    3000\n",
       "nso    3000\n",
       "ven    3000\n",
       "tsn    3000\n",
       "nbl    3000\n",
       "zul    3000\n",
       "ssw    3000\n",
       "tso    3000\n",
       "sot    3000\n",
       "afr    3000\n",
       "Name: lang_id, dtype: int64"
      ]
     },
     "execution_count": 11,
     "metadata": {},
     "output_type": "execute_result"
    }
   ],
   "source": [
    "df_train[\"lang_id\"].value_counts() # There are 11 languages and 3000 sentenses in each category"
   ]
  },
  {
   "cell_type": "code",
   "execution_count": 12,
   "id": "f224e7f1",
   "metadata": {},
   "outputs": [
    {
     "name": "stdout",
     "output_type": "stream",
     "text": [
      "object    2\n",
      "dtype: int64\n"
     ]
    }
   ],
   "source": [
    "#find out the number of each datatype in our data \n",
    "print(df_train.dtypes.value_counts())"
   ]
  },
  {
   "cell_type": "code",
   "execution_count": 13,
   "id": "de96cb8b",
   "metadata": {},
   "outputs": [
    {
     "data": {
      "image/png": "[encoded data removed]",
      "text/plain": [
       "<Figure size 432x288 with 1 Axes>"
      ]
     },
     "metadata": {},
     "output_type": "display_data"
    }
   ],
   "source": [
    "labels = 'object', 'int64'\n",
    "sizes = [1, 2]\n",
    "\n",
    "colors = ('green', 'greenyellow')\n",
    "fig1, ax1 = plt.subplots()\n",
    "\n",
    "ax1.pie(sizes, colors = colors, labels = labels, autopct = '%1.1f%%', shadow = True, startangle = 45)\n",
    "patches, texts, auto = ax1.pie(sizes, colors = colors, shadow = True, startangle = 45, autopct = '%1.1f%%')\n",
    "\n",
    "plt.legend(patches, labels, loc = 'best')\n",
    "plt.show()"
   ]
  },
  {
   "cell_type": "markdown",
   "id": "30afdede",
   "metadata": {},
   "source": [
    "#### **Analysis of the language distribution in the dataset and pie chart**"
   ]
  },
  {
   "cell_type": "code",
   "execution_count": 14,
   "id": "c7e5f016",
   "metadata": {},
   "outputs": [
    {
     "name": "stdout",
     "output_type": "stream",
     "text": [
      "6.0\n",
      "4.0\n"
     ]
    },
    {
     "data": {
      "text/plain": [
       "<AxesSubplot:ylabel='lang_id'>"
      ]
     },
     "execution_count": 14,
     "metadata": {},
     "output_type": "execute_result"
    },
    {
     "data": {
      "image/png": "[encoded data removed]",
      "text/plain": [
       "<Figure size 576x576 with 1 Axes>"
      ]
     },
     "metadata": {},
     "output_type": "display_data"
    }
   ],
   "source": [
    "plot_size = plt.rcParams[\"figure.figsize\"] \n",
    "print(plot_size[0]) \n",
    "print(plot_size[1])\n",
    "\n",
    "plot_size[0] = 8\n",
    "plot_size[1] = 8\n",
    "plt.rcParams[\"figure.figsize\"] = plot_size \n",
    "\n",
    "#  distribution of sentenses from the dataset\n",
    "df_train.lang_id.value_counts().plot(kind='pie', autopct='%1.0f%%')"
   ]
  },
  {
   "cell_type": "markdown",
   "id": "b3e9481b",
   "metadata": {},
   "source": [
    "Our dataset is balanced accross the different categories.Class imbalance should always be dealt with to ensure we dont get a biased model and this is carried out during feature engineering."
   ]
  },
  {
   "cell_type": "markdown",
   "id": "ae860ef8",
   "metadata": {},
   "source": [
    "### 4. Pre-processing"
   ]
  },
  {
   "cell_type": "code",
   "execution_count": 15,
   "id": "6307fe38",
   "metadata": {},
   "outputs": [],
   "source": [
    "#text data is the independent variable of the training set\n",
    "X = df_train[\"text\"] \n",
    "#lang_id is the dependent variable of the training set\n",
    "y = df_train[\"lang_id\"]\n",
    "#text data is the independent variable of the test set\n",
    "X_t = df_test['text'] "
   ]
  },
  {
   "cell_type": "code",
   "execution_count": 16,
   "id": "f1f69383",
   "metadata": {},
   "outputs": [],
   "source": [
    "#creating a list for appending the preprocessed text\n",
    "datafm_list = []\n",
    "#iterating through all the text\n",
    "for text in X:\n",
    "       #removal of numbers and symbols\n",
    "        text = re.sub(r'[!@#$(),n\"%^*?:;~`0-9]', ' ', text)\n",
    "        #converting the text to lower case\n",
    "        text = text.lower()\n",
    "        #appending to data_list\n",
    "        datafm_list.append(text)"
   ]
  },
  {
   "cell_type": "code",
   "execution_count": 17,
   "id": "06b4c411",
   "metadata": {},
   "outputs": [],
   "source": [
    "# creating a list for appending the preprocessed text in the text data set\n",
    "datafm_list1 = []\n",
    "# iterating through all the text\n",
    "for text in X_t:\n",
    "       # removing the symbols and numbers\n",
    "        text = re.sub(r'[!@#$(),n\"%^*?:;~`0-9]', ' ', text)\n",
    "        text = re.sub(r'[[]]', ' ', text)\n",
    "        # converting the text to lower case\n",
    "        text = text.lower()\n",
    "        # appending to data_list\n",
    "        datafm_list1.append(text)"
   ]
  },
  {
   "cell_type": "markdown",
   "id": "aa1e74ee",
   "metadata": {},
   "source": [
    "### Bag of Words"
   ]
  },
  {
   "cell_type": "markdown",
   "id": "10177def",
   "metadata": {},
   "source": [
    "Using CountVectorizer to convert our dataset from text to numerical form.Our model should take in numerical data"
   ]
  },
  {
   "cell_type": "code",
   "execution_count": 18,
   "id": "3f372a6a",
   "metadata": {},
   "outputs": [],
   "source": [
    "from sklearn.feature_extraction.text import CountVectorizer\n",
    "cv = CountVectorizer()\n",
    "X = cv.fit_transform(X)"
   ]
  },
  {
   "cell_type": "code",
   "execution_count": 19,
   "id": "a6607151",
   "metadata": {},
   "outputs": [
    {
     "data": {
      "text/plain": [
       "(33000, 141958)"
      ]
     },
     "execution_count": 19,
     "metadata": {},
     "output_type": "execute_result"
    }
   ],
   "source": [
    "#look at the shape\n",
    "X.shape "
   ]
  },
  {
   "cell_type": "code",
   "execution_count": 20,
   "id": "1160b2f0",
   "metadata": {},
   "outputs": [
    {
     "data": {
      "text/plain": [
       "(5682, 141958)"
      ]
     },
     "execution_count": 20,
     "metadata": {},
     "output_type": "execute_result"
    }
   ],
   "source": [
    "# The test data is transformed using transform()\n",
    "X_t = cv.transform(X_t)\n",
    "X_t.shape"
   ]
  },
  {
   "cell_type": "markdown",
   "id": "ec23978a",
   "metadata": {},
   "source": [
    "### Train Test Splitting"
   ]
  },
  {
   "cell_type": "code",
   "execution_count": 21,
   "id": "a03d53a6",
   "metadata": {},
   "outputs": [],
   "source": [
    "x_train, x_test, y_train, y_test = train_test_split(X, y, test_size = 0.20, random_state=0)"
   ]
  },
  {
   "cell_type": "markdown",
   "id": "1fdac00d",
   "metadata": {},
   "source": [
    "### 5. Model Training\n",
    "We train our model uisng several models from the training set, and then use the classification regression to predict the results for the test set."
   ]
  },
  {
   "cell_type": "markdown",
   "id": "4dbed5ad",
   "metadata": {},
   "source": [
    "### NAIVE_BAYES Algorithm"
   ]
  },
  {
   "cell_type": "code",
   "execution_count": 22,
   "id": "3f96a56d",
   "metadata": {},
   "outputs": [
    {
     "name": "stdout",
     "output_type": "stream",
     "text": [
      "Accuracy is : 0.9990909090909091\n",
      "Report is :               precision    recall  f1-score   support\n",
      "\n",
      "         afr       1.00      1.00      1.00       587\n",
      "         eng       0.99      1.00      1.00       574\n",
      "         nbl       1.00      1.00      1.00       613\n",
      "         nso       1.00      1.00      1.00       570\n",
      "         sot       1.00      1.00      1.00       600\n",
      "         ssw       1.00      1.00      1.00       624\n",
      "         tsn       1.00      1.00      1.00       581\n",
      "         tso       1.00      1.00      1.00       597\n",
      "         ven       1.00      1.00      1.00       599\n",
      "         xho       1.00      1.00      1.00       621\n",
      "         zul       1.00      1.00      1.00       634\n",
      "\n",
      "    accuracy                           1.00      6600\n",
      "   macro avg       1.00      1.00      1.00      6600\n",
      "weighted avg       1.00      1.00      1.00      6600\n",
      "\n"
     ]
    }
   ],
   "source": [
    "from sklearn.naive_bayes import MultinomialNB\n",
    "model = MultinomialNB()\n",
    "\n",
    "#fitting the Naive_Bayes model\n",
    "model.fit(x_train, y_train)\n",
    "\n",
    "#predicting the y labels\n",
    "y_pred1 = model.predict(x_test)\n",
    "\n",
    "#metrics reporting\n",
    "acc = accuracy_score(y_test, y_pred1)\n",
    "\n",
    "report = classification_report(y_test,y_pred1)\n",
    "\n",
    "print(\"Accuracy is :\",acc)\n",
    "#print(\"Matrix is :\",cm)\n",
    "print(\"Report is :\",report)"
   ]
  },
  {
   "cell_type": "markdown",
   "id": "acef6e5f",
   "metadata": {},
   "source": [
    "### Random Forest"
   ]
  },
  {
   "cell_type": "code",
   "execution_count": 23,
   "id": "9dd149e9",
   "metadata": {},
   "outputs": [
    {
     "name": "stdout",
     "output_type": "stream",
     "text": [
      "Accuracy is : 0.9875757575757576\n",
      "Report is :               precision    recall  f1-score   support\n",
      "\n",
      "         afr       1.00      1.00      1.00       587\n",
      "         eng       0.99      1.00      0.99       574\n",
      "         nbl       0.98      0.96      0.97       613\n",
      "         nso       1.00      0.99      1.00       570\n",
      "         sot       1.00      1.00      1.00       600\n",
      "         ssw       1.00      0.97      0.98       624\n",
      "         tsn       0.99      1.00      1.00       581\n",
      "         tso       1.00      1.00      1.00       597\n",
      "         ven       1.00      1.00      1.00       599\n",
      "         xho       0.98      0.98      0.98       621\n",
      "         zul       0.93      0.97      0.95       634\n",
      "\n",
      "    accuracy                           0.99      6600\n",
      "   macro avg       0.99      0.99      0.99      6600\n",
      "weighted avg       0.99      0.99      0.99      6600\n",
      "\n"
     ]
    }
   ],
   "source": [
    "rf_clf = RandomForestClassifier(n_estimators=100) # Create Random Forest classifer object\n",
    "rf_clf.fit(x_train,y_train) # Fit/Train Random Forest Classifer on training set\n",
    "\n",
    "#predict y labels\n",
    "y_pred5 = rf_clf.predict(x_test)\n",
    "\n",
    "#metrics report\n",
    "acc = accuracy_score(y_test, y_pred5)\n",
    "\n",
    "report = classification_report(y_test,y_pred5)\n",
    "\n",
    "print(\"Accuracy is :\",acc)\n",
    "print(\"Report is :\",report)"
   ]
  },
  {
   "cell_type": "markdown",
   "id": "59970f81",
   "metadata": {},
   "source": [
    "### Logistic Regression"
   ]
  },
  {
   "cell_type": "code",
   "execution_count": 24,
   "id": "698cd587",
   "metadata": {},
   "outputs": [
    {
     "name": "stdout",
     "output_type": "stream",
     "text": [
      "Accuracy is : 0.9953030303030304\n",
      "Report is :               precision    recall  f1-score   support\n",
      "\n",
      "         afr       1.00      1.00      1.00       587\n",
      "         eng       1.00      1.00      1.00       574\n",
      "         nbl       0.99      0.99      0.99       613\n",
      "         nso       1.00      1.00      1.00       570\n",
      "         sot       1.00      0.99      1.00       600\n",
      "         ssw       0.99      1.00      0.99       624\n",
      "         tsn       1.00      1.00      1.00       581\n",
      "         tso       1.00      1.00      1.00       597\n",
      "         ven       1.00      1.00      1.00       599\n",
      "         xho       1.00      0.99      0.99       621\n",
      "         zul       0.98      0.98      0.98       634\n",
      "\n",
      "    accuracy                           1.00      6600\n",
      "   macro avg       1.00      1.00      1.00      6600\n",
      "weighted avg       1.00      1.00      1.00      6600\n",
      "\n"
     ]
    }
   ],
   "source": [
    "LRmodel = LogisticRegression(C = 2, max_iter = 1000, n_jobs=-1)# Creating a logistics regression\n",
    "#fit the train data\n",
    "LRmodel.fit(x_train, y_train)\n",
    "#predict y labels\n",
    "y_pred2 = LRmodel.predict(x_test)\n",
    "\n",
    "#metrics report\n",
    "acc = accuracy_score(y_test, y_pred2)\n",
    "\n",
    "report = classification_report(y_test,y_pred2)\n",
    "\n",
    "print(\"Accuracy is :\",acc)\n",
    "print(\"Report is :\",report)"
   ]
  },
  {
   "cell_type": "markdown",
   "id": "7b40c339",
   "metadata": {},
   "source": [
    "### BernoulliNB Model"
   ]
  },
  {
   "cell_type": "code",
   "execution_count": 27,
   "id": "bf59e7a5",
   "metadata": {},
   "outputs": [
    {
     "name": "stdout",
     "output_type": "stream",
     "text": [
      "Accuracy is : 0.9993939393939394\n",
      "Report is :               precision    recall  f1-score   support\n",
      "\n",
      "         afr       1.00      1.00      1.00       587\n",
      "         eng       1.00      1.00      1.00       574\n",
      "         nbl       1.00      1.00      1.00       613\n",
      "         nso       1.00      1.00      1.00       570\n",
      "         sot       1.00      1.00      1.00       600\n",
      "         ssw       1.00      1.00      1.00       624\n",
      "         tsn       1.00      1.00      1.00       581\n",
      "         tso       1.00      1.00      1.00       597\n",
      "         ven       1.00      1.00      1.00       599\n",
      "         xho       1.00      1.00      1.00       621\n",
      "         zul       1.00      1.00      1.00       634\n",
      "\n",
      "    accuracy                           1.00      6600\n",
      "   macro avg       1.00      1.00      1.00      6600\n",
      "weighted avg       1.00      1.00      1.00      6600\n",
      "\n"
     ]
    }
   ],
   "source": [
    "BNBmodel = BernoulliNB()\n",
    "BNBmodel.fit(x_train, y_train)\n",
    "y_pred3 = BNBmodel.predict(x_test)\n",
    "\n",
    "#metrics report\n",
    "acc = accuracy_score(y_test, y_pred3)\n",
    "\n",
    "report = classification_report(y_test,y_pred3)\n",
    "\n",
    "print(\"Accuracy is :\",acc)\n",
    "print(\"Report is :\",report)"
   ]
  },
  {
   "cell_type": "markdown",
   "id": "ba54d621",
   "metadata": {},
   "source": [
    "### Support Vector Classifier"
   ]
  },
  {
   "cell_type": "code",
   "execution_count": 26,
   "id": "37c9b90d",
   "metadata": {},
   "outputs": [
    {
     "name": "stdout",
     "output_type": "stream",
     "text": [
      "Accuracy is : 0.9940909090909091\n",
      "Report is :               precision    recall  f1-score   support\n",
      "\n",
      "         afr       1.00      1.00      1.00       587\n",
      "         eng       1.00      1.00      1.00       574\n",
      "         nbl       0.99      0.98      0.98       613\n",
      "         nso       1.00      0.99      1.00       570\n",
      "         sot       1.00      0.99      1.00       600\n",
      "         ssw       0.99      1.00      1.00       624\n",
      "         tsn       0.99      1.00      1.00       581\n",
      "         tso       1.00      1.00      1.00       597\n",
      "         ven       1.00      1.00      1.00       599\n",
      "         xho       0.99      0.99      0.99       621\n",
      "         zul       0.97      0.98      0.98       634\n",
      "\n",
      "    accuracy                           0.99      6600\n",
      "   macro avg       0.99      0.99      0.99      6600\n",
      "weighted avg       0.99      0.99      0.99      6600\n",
      "\n"
     ]
    }
   ],
   "source": [
    "from sklearn.svm import SVC\n",
    "\n",
    "svc = SVC( kernel='rbf')\n",
    "svc.fit(x_train, y_train)\n",
    "y_pred4 = svc.predict(x_test)\n",
    "\n",
    "#metrics report\n",
    "acc = accuracy_score(y_test, y_pred4)\n",
    "report = classification_report(y_test,y_pred4)\n",
    "\n",
    "print(\"Accuracy is :\",acc)\n",
    "print(\"Report is :\",report)"
   ]
  },
  {
   "cell_type": "markdown",
   "id": "fff889fd",
   "metadata": {},
   "source": [
    "### 6. Modelling"
   ]
  },
  {
   "cell_type": "markdown",
   "id": "9b5c7cbb",
   "metadata": {},
   "source": [
    "We will compare the model perfomance of the models defined above."
   ]
  },
  {
   "cell_type": "code",
   "execution_count": 28,
   "id": "c7c4e203",
   "metadata": {},
   "outputs": [],
   "source": [
    "names = ['Random Forest','LogisticRegression', 'BernoulliNB','SVC','NAIVE_BAYES Algorithm'\n",
    "        ]\n",
    "         "
   ]
  },
  {
   "cell_type": "code",
   "execution_count": 29,
   "id": "c13552fb",
   "metadata": {},
   "outputs": [],
   "source": [
    "classifiers = [\n",
    "    RandomForestClassifier(n_estimators=100),\n",
    "    LogisticRegression(C = 2, max_iter = 1000, n_jobs=-1),\n",
    "    BernoulliNB(),\n",
    "    SVC(kernel='rbf'),\n",
    "     \n",
    "    ]"
   ]
  },
  {
   "cell_type": "code",
   "execution_count": null,
   "id": "98bd8c1a",
   "metadata": {},
   "outputs": [
    {
     "name": "stdout",
     "output_type": "stream",
     "text": [
      "Fitting Random Forest model...\n"
     ]
    }
   ],
   "source": [
    "from sklearn import metrics\n",
    "results = []\n",
    "\n",
    "models = {}\n",
    "confusion = {}\n",
    "class_report = {}\n",
    "\n",
    "\n",
    "for name, clf in zip(names, classifiers):\n",
    "    print ('Fitting {:s} model...'.format(name))\n",
    "    run_time = %timeit -q -o clf.fit(x_train, y_train)\n",
    "\n",
    "    print ('... predicting')\n",
    "    y_pred = clf.predict(x_train)\n",
    "    y_pred_test = clf.predict(x_test)\n",
    "\n",
    "    print ('... scoring')\n",
    "    accuracy  = metrics.accuracy_score(y_train, y_pred)\n",
    "    precision = metrics.precision_score(y_train, y_pred, average='weighted')\n",
    "    recall    = metrics.recall_score(y_train, y_pred, average='weighted')\n",
    "\n",
    "    f1        = metrics.f1_score(y_train, y_pred, average='weighted')\n",
    "    f1_test   = metrics.f1_score(y_test, y_pred_test, average='weighted')\n",
    "\n",
    "    # Save the results to dictionaries\n",
    "    models[name] = clf\n",
    "    confusion[name] = metrics.confusion_matrix(y_train, y_pred)\n",
    "    class_report[name] = metrics.classification_report(y_train, y_pred)\n",
    "\n",
    "    results.append([name, accuracy, precision, recall, f1, f1_test, run_time.best])\n",
    "\n",
    "\n",
    "results = pd.DataFrame(results, columns=['Classifier', 'Accuracy', 'Precision', 'Recall', 'F1 Train', 'F1 Test', 'Train Time'])\n",
    "results.set_index('Classifier', inplace= True)\n",
    "\n",
    "print ('... All done!')"
   ]
  },
  {
   "cell_type": "markdown",
   "id": "e392ee5b",
   "metadata": {},
   "source": [
    "Results"
   ]
  },
  {
   "cell_type": "code",
   "execution_count": null,
   "id": "a2427987",
   "metadata": {},
   "outputs": [],
   "source": [
    "results.sort_values('F1 Train', ascending=False)"
   ]
  },
  {
   "cell_type": "markdown",
   "id": "356f2cc7",
   "metadata": {},
   "source": [
    "Graph to compare the different metrics"
   ]
  },
  {
   "cell_type": "code",
   "execution_count": null,
   "id": "039b39e1",
   "metadata": {},
   "outputs": [],
   "source": [
    "fig, ax = plt.subplots(1, 2, figsize=(10, 5))\n",
    "results.sort_values('F1 Train', ascending=False, inplace=True)\n",
    "results.plot(y=['F1 Test'], kind='bar', ax=ax[0], xlim=[0,1.1], ylim=[0.70,1.00])\n",
    "results.plot(y='Train Time', kind='bar', ax=ax[1])"
   ]
  },
  {
   "cell_type": "markdown",
   "id": "e1de5827",
   "metadata": {},
   "source": [
    "The random forest model took a long to fit the data and performed least. Multinormal Naive Bayes took the shorter time to fit data\n",
    "BernoulliNB performed the best and took very little time. To comprehend the performance of the BernoulliNB model we'll look at the confusion matricx and classification report results"
   ]
  },
  {
   "cell_type": "code",
   "execution_count": null,
   "id": "611dd7e0",
   "metadata": {},
   "outputs": [],
   "source": [
    "confusion['BernoulliNB']"
   ]
  },
  {
   "cell_type": "code",
   "execution_count": null,
   "id": "bb08ea33",
   "metadata": {},
   "outputs": [],
   "source": [
    "print(class_report['BernoulliNB'])"
   ]
  },
  {
   "cell_type": "markdown",
   "id": "f4a26694",
   "metadata": {},
   "source": [
    "The BernoulliNB model has the highest accuracy,0.9998,showing that our model is operating well."
   ]
  },
  {
   "cell_type": "code",
   "execution_count": null,
   "id": "43b521c6",
   "metadata": {},
   "outputs": [],
   "source": [
    "plt.figure(figsize=(15,10))\n",
    "sns.heatmap(confusion['BernoulliNB'], annot = True)\n",
    "plt.show()"
   ]
  },
  {
   "cell_type": "markdown",
   "id": "471cf6d7",
   "metadata": {},
   "source": [
    "### Conclusion"
   ]
  },
  {
   "cell_type": "markdown",
   "id": "72291a7f",
   "metadata": {},
   "source": [
    "This is a fundamental NLP strategy.The data was examined and appropriately prepped.ONE method to visualize our text data was bag og words.For accurate prediction in NLP, text extraction and vectorization are crucial steps. Since BernoulliNB has been shown to be a better language model,more precise findings have been obtained."
   ]
  },
  {
   "cell_type": "code",
   "execution_count": null,
   "id": "61ef6599",
   "metadata": {},
   "outputs": [],
   "source": []
  }
 ],
 "metadata": {
  "kernelspec": {
   "display_name": "Python 3 (ipykernel)",
   "language": "python",
   "name": "python3"
  },
  "language_info": {
   "codemirror_mode": {
    "name": "ipython",
    "version": 3
   },
   "file_extension": ".py",
   "mimetype": "text/x-python",
   "name": "python",
   "nbconvert_exporter": "python",
   "pygments_lexer": "ipython3",
   "version": "3.9.7"
  }
 },
 "nbformat": 4,
 "nbformat_minor": 5
}
